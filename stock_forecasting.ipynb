{
  "nbformat": 4,
  "nbformat_minor": 0,
  "metadata": {
    "colab": {
      "provenance": [],
      "collapsed_sections": []
    },
    "kernelspec": {
      "name": "python3",
      "display_name": "Python 3"
    },
    "language_info": {
      "name": "python"
    }
  },
  "cells": [
    {
      "cell_type": "code",
      "execution_count": 2,
      "metadata": {
        "id": "2o1GNn9N5Inr"
      },
      "outputs": [],
      "source": [
        "import pandas as pd\n",
        "\n",
        "df = pd.read_csv(\"/content/drive/MyDrive/ColabNotebooks2/MSFT.csv\")"
      ]
    },
    {
      "cell_type": "code",
      "source": [
        "df = df[['Date', 'Close']]"
      ],
      "metadata": {
        "colab": {
          "base_uri": "https://localhost:8080/",
          "height": 419
        },
        "id": "nUXH2ucH6AQx",
        "outputId": "92bd14ec-4f32-45b7-82cf-802a6e5aac24"
      },
      "execution_count": 6,
      "outputs": [
        {
          "output_type": "execute_result",
          "data": {
            "text/plain": [
              "            Date       Close\n",
              "0     1986-03-13    0.097222\n",
              "1     1986-03-14    0.100694\n",
              "2     1986-03-17    0.102431\n",
              "3     1986-03-18    0.099826\n",
              "4     1986-03-19    0.098090\n",
              "...          ...         ...\n",
              "9224  2022-10-17  237.529999\n",
              "9225  2022-10-18  238.500000\n",
              "9226  2022-10-19  236.479996\n",
              "9227  2022-10-20  236.149994\n",
              "9228  2022-10-21  242.119995\n",
              "\n",
              "[9229 rows x 2 columns]"
            ],
            "text/html": [
              "\n",
              "  <div id=\"df-69489d91-a2c8-402f-b853-07a556cdaec8\">\n",
              "    <div class=\"colab-df-container\">\n",
              "      <div>\n",
              "<style scoped>\n",
              "    .dataframe tbody tr th:only-of-type {\n",
              "        vertical-align: middle;\n",
              "    }\n",
              "\n",
              "    .dataframe tbody tr th {\n",
              "        vertical-align: top;\n",
              "    }\n",
              "\n",
              "    .dataframe thead th {\n",
              "        text-align: right;\n",
              "    }\n",
              "</style>\n",
              "<table border=\"1\" class=\"dataframe\">\n",
              "  <thead>\n",
              "    <tr style=\"text-align: right;\">\n",
              "      <th></th>\n",
              "      <th>Date</th>\n",
              "      <th>Close</th>\n",
              "    </tr>\n",
              "  </thead>\n",
              "  <tbody>\n",
              "    <tr>\n",
              "      <th>0</th>\n",
              "      <td>1986-03-13</td>\n",
              "      <td>0.097222</td>\n",
              "    </tr>\n",
              "    <tr>\n",
              "      <th>1</th>\n",
              "      <td>1986-03-14</td>\n",
              "      <td>0.100694</td>\n",
              "    </tr>\n",
              "    <tr>\n",
              "      <th>2</th>\n",
              "      <td>1986-03-17</td>\n",
              "      <td>0.102431</td>\n",
              "    </tr>\n",
              "    <tr>\n",
              "      <th>3</th>\n",
              "      <td>1986-03-18</td>\n",
              "      <td>0.099826</td>\n",
              "    </tr>\n",
              "    <tr>\n",
              "      <th>4</th>\n",
              "      <td>1986-03-19</td>\n",
              "      <td>0.098090</td>\n",
              "    </tr>\n",
              "    <tr>\n",
              "      <th>...</th>\n",
              "      <td>...</td>\n",
              "      <td>...</td>\n",
              "    </tr>\n",
              "    <tr>\n",
              "      <th>9224</th>\n",
              "      <td>2022-10-17</td>\n",
              "      <td>237.529999</td>\n",
              "    </tr>\n",
              "    <tr>\n",
              "      <th>9225</th>\n",
              "      <td>2022-10-18</td>\n",
              "      <td>238.500000</td>\n",
              "    </tr>\n",
              "    <tr>\n",
              "      <th>9226</th>\n",
              "      <td>2022-10-19</td>\n",
              "      <td>236.479996</td>\n",
              "    </tr>\n",
              "    <tr>\n",
              "      <th>9227</th>\n",
              "      <td>2022-10-20</td>\n",
              "      <td>236.149994</td>\n",
              "    </tr>\n",
              "    <tr>\n",
              "      <th>9228</th>\n",
              "      <td>2022-10-21</td>\n",
              "      <td>242.119995</td>\n",
              "    </tr>\n",
              "  </tbody>\n",
              "</table>\n",
              "<p>9229 rows × 2 columns</p>\n",
              "</div>\n",
              "      <button class=\"colab-df-convert\" onclick=\"convertToInteractive('df-69489d91-a2c8-402f-b853-07a556cdaec8')\"\n",
              "              title=\"Convert this dataframe to an interactive table.\"\n",
              "              style=\"display:none;\">\n",
              "        \n",
              "  <svg xmlns=\"http://www.w3.org/2000/svg\" height=\"24px\"viewBox=\"0 0 24 24\"\n",
              "       width=\"24px\">\n",
              "    <path d=\"M0 0h24v24H0V0z\" fill=\"none\"/>\n",
              "    <path d=\"M18.56 5.44l.94 2.06.94-2.06 2.06-.94-2.06-.94-.94-2.06-.94 2.06-2.06.94zm-11 1L8.5 8.5l.94-2.06 2.06-.94-2.06-.94L8.5 2.5l-.94 2.06-2.06.94zm10 10l.94 2.06.94-2.06 2.06-.94-2.06-.94-.94-2.06-.94 2.06-2.06.94z\"/><path d=\"M17.41 7.96l-1.37-1.37c-.4-.4-.92-.59-1.43-.59-.52 0-1.04.2-1.43.59L10.3 9.45l-7.72 7.72c-.78.78-.78 2.05 0 2.83L4 21.41c.39.39.9.59 1.41.59.51 0 1.02-.2 1.41-.59l7.78-7.78 2.81-2.81c.8-.78.8-2.07 0-2.86zM5.41 20L4 18.59l7.72-7.72 1.47 1.35L5.41 20z\"/>\n",
              "  </svg>\n",
              "      </button>\n",
              "      \n",
              "  <style>\n",
              "    .colab-df-container {\n",
              "      display:flex;\n",
              "      flex-wrap:wrap;\n",
              "      gap: 12px;\n",
              "    }\n",
              "\n",
              "    .colab-df-convert {\n",
              "      background-color: #E8F0FE;\n",
              "      border: none;\n",
              "      border-radius: 50%;\n",
              "      cursor: pointer;\n",
              "      display: none;\n",
              "      fill: #1967D2;\n",
              "      height: 32px;\n",
              "      padding: 0 0 0 0;\n",
              "      width: 32px;\n",
              "    }\n",
              "\n",
              "    .colab-df-convert:hover {\n",
              "      background-color: #E2EBFA;\n",
              "      box-shadow: 0px 1px 2px rgba(60, 64, 67, 0.3), 0px 1px 3px 1px rgba(60, 64, 67, 0.15);\n",
              "      fill: #174EA6;\n",
              "    }\n",
              "\n",
              "    [theme=dark] .colab-df-convert {\n",
              "      background-color: #3B4455;\n",
              "      fill: #D2E3FC;\n",
              "    }\n",
              "\n",
              "    [theme=dark] .colab-df-convert:hover {\n",
              "      background-color: #434B5C;\n",
              "      box-shadow: 0px 1px 3px 1px rgba(0, 0, 0, 0.15);\n",
              "      filter: drop-shadow(0px 1px 2px rgba(0, 0, 0, 0.3));\n",
              "      fill: #FFFFFF;\n",
              "    }\n",
              "  </style>\n",
              "\n",
              "      <script>\n",
              "        const buttonEl =\n",
              "          document.querySelector('#df-69489d91-a2c8-402f-b853-07a556cdaec8 button.colab-df-convert');\n",
              "        buttonEl.style.display =\n",
              "          google.colab.kernel.accessAllowed ? 'block' : 'none';\n",
              "\n",
              "        async function convertToInteractive(key) {\n",
              "          const element = document.querySelector('#df-69489d91-a2c8-402f-b853-07a556cdaec8');\n",
              "          const dataTable =\n",
              "            await google.colab.kernel.invokeFunction('convertToInteractive',\n",
              "                                                     [key], {});\n",
              "          if (!dataTable) return;\n",
              "\n",
              "          const docLinkHtml = 'Like what you see? Visit the ' +\n",
              "            '<a target=\"_blank\" href=https://colab.research.google.com/notebooks/data_table.ipynb>data table notebook</a>'\n",
              "            + ' to learn more about interactive tables.';\n",
              "          element.innerHTML = '';\n",
              "          dataTable['output_type'] = 'display_data';\n",
              "          await google.colab.output.renderOutput(dataTable, element);\n",
              "          const docLink = document.createElement('div');\n",
              "          docLink.innerHTML = docLinkHtml;\n",
              "          element.appendChild(docLink);\n",
              "        }\n",
              "      </script>\n",
              "    </div>\n",
              "  </div>\n",
              "  "
            ]
          },
          "metadata": {},
          "execution_count": 6
        }
      ]
    },
    {
      "cell_type": "code",
      "source": [
        "import datetime\n",
        "\n",
        "df['Date'] = pd.to_datetime(df['Date'])\n",
        "\n",
        "df.info()"
      ],
      "metadata": {
        "colab": {
          "base_uri": "https://localhost:8080/"
        },
        "id": "G4D8FexN6QoB",
        "outputId": "9f35e73f-0a45-4618-983a-3567dd578791"
      },
      "execution_count": 9,
      "outputs": [
        {
          "output_type": "stream",
          "name": "stdout",
          "text": [
            "<class 'pandas.core.frame.DataFrame'>\n",
            "RangeIndex: 9229 entries, 0 to 9228\n",
            "Data columns (total 2 columns):\n",
            " #   Column  Non-Null Count  Dtype         \n",
            "---  ------  --------------  -----         \n",
            " 0   Date    9229 non-null   datetime64[ns]\n",
            " 1   Close   9229 non-null   float64       \n",
            "dtypes: datetime64[ns](1), float64(1)\n",
            "memory usage: 144.3 KB\n"
          ]
        }
      ]
    },
    {
      "cell_type": "code",
      "source": [
        "df.index = df.pop('Date')\n",
        "\n",
        "df"
      ],
      "metadata": {
        "colab": {
          "base_uri": "https://localhost:8080/",
          "height": 450
        },
        "id": "2RCoN3xu6vcu",
        "outputId": "d5a10fba-9571-4c4c-c35b-0d8d7335cd68"
      },
      "execution_count": 10,
      "outputs": [
        {
          "output_type": "execute_result",
          "data": {
            "text/plain": [
              "                 Close\n",
              "Date                  \n",
              "1986-03-13    0.097222\n",
              "1986-03-14    0.100694\n",
              "1986-03-17    0.102431\n",
              "1986-03-18    0.099826\n",
              "1986-03-19    0.098090\n",
              "...                ...\n",
              "2022-10-17  237.529999\n",
              "2022-10-18  238.500000\n",
              "2022-10-19  236.479996\n",
              "2022-10-20  236.149994\n",
              "2022-10-21  242.119995\n",
              "\n",
              "[9229 rows x 1 columns]"
            ],
            "text/html": [
              "\n",
              "  <div id=\"df-13402ba4-cdac-4343-805c-811dfb16284b\">\n",
              "    <div class=\"colab-df-container\">\n",
              "      <div>\n",
              "<style scoped>\n",
              "    .dataframe tbody tr th:only-of-type {\n",
              "        vertical-align: middle;\n",
              "    }\n",
              "\n",
              "    .dataframe tbody tr th {\n",
              "        vertical-align: top;\n",
              "    }\n",
              "\n",
              "    .dataframe thead th {\n",
              "        text-align: right;\n",
              "    }\n",
              "</style>\n",
              "<table border=\"1\" class=\"dataframe\">\n",
              "  <thead>\n",
              "    <tr style=\"text-align: right;\">\n",
              "      <th></th>\n",
              "      <th>Close</th>\n",
              "    </tr>\n",
              "    <tr>\n",
              "      <th>Date</th>\n",
              "      <th></th>\n",
              "    </tr>\n",
              "  </thead>\n",
              "  <tbody>\n",
              "    <tr>\n",
              "      <th>1986-03-13</th>\n",
              "      <td>0.097222</td>\n",
              "    </tr>\n",
              "    <tr>\n",
              "      <th>1986-03-14</th>\n",
              "      <td>0.100694</td>\n",
              "    </tr>\n",
              "    <tr>\n",
              "      <th>1986-03-17</th>\n",
              "      <td>0.102431</td>\n",
              "    </tr>\n",
              "    <tr>\n",
              "      <th>1986-03-18</th>\n",
              "      <td>0.099826</td>\n",
              "    </tr>\n",
              "    <tr>\n",
              "      <th>1986-03-19</th>\n",
              "      <td>0.098090</td>\n",
              "    </tr>\n",
              "    <tr>\n",
              "      <th>...</th>\n",
              "      <td>...</td>\n",
              "    </tr>\n",
              "    <tr>\n",
              "      <th>2022-10-17</th>\n",
              "      <td>237.529999</td>\n",
              "    </tr>\n",
              "    <tr>\n",
              "      <th>2022-10-18</th>\n",
              "      <td>238.500000</td>\n",
              "    </tr>\n",
              "    <tr>\n",
              "      <th>2022-10-19</th>\n",
              "      <td>236.479996</td>\n",
              "    </tr>\n",
              "    <tr>\n",
              "      <th>2022-10-20</th>\n",
              "      <td>236.149994</td>\n",
              "    </tr>\n",
              "    <tr>\n",
              "      <th>2022-10-21</th>\n",
              "      <td>242.119995</td>\n",
              "    </tr>\n",
              "  </tbody>\n",
              "</table>\n",
              "<p>9229 rows × 1 columns</p>\n",
              "</div>\n",
              "      <button class=\"colab-df-convert\" onclick=\"convertToInteractive('df-13402ba4-cdac-4343-805c-811dfb16284b')\"\n",
              "              title=\"Convert this dataframe to an interactive table.\"\n",
              "              style=\"display:none;\">\n",
              "        \n",
              "  <svg xmlns=\"http://www.w3.org/2000/svg\" height=\"24px\"viewBox=\"0 0 24 24\"\n",
              "       width=\"24px\">\n",
              "    <path d=\"M0 0h24v24H0V0z\" fill=\"none\"/>\n",
              "    <path d=\"M18.56 5.44l.94 2.06.94-2.06 2.06-.94-2.06-.94-.94-2.06-.94 2.06-2.06.94zm-11 1L8.5 8.5l.94-2.06 2.06-.94-2.06-.94L8.5 2.5l-.94 2.06-2.06.94zm10 10l.94 2.06.94-2.06 2.06-.94-2.06-.94-.94-2.06-.94 2.06-2.06.94z\"/><path d=\"M17.41 7.96l-1.37-1.37c-.4-.4-.92-.59-1.43-.59-.52 0-1.04.2-1.43.59L10.3 9.45l-7.72 7.72c-.78.78-.78 2.05 0 2.83L4 21.41c.39.39.9.59 1.41.59.51 0 1.02-.2 1.41-.59l7.78-7.78 2.81-2.81c.8-.78.8-2.07 0-2.86zM5.41 20L4 18.59l7.72-7.72 1.47 1.35L5.41 20z\"/>\n",
              "  </svg>\n",
              "      </button>\n",
              "      \n",
              "  <style>\n",
              "    .colab-df-container {\n",
              "      display:flex;\n",
              "      flex-wrap:wrap;\n",
              "      gap: 12px;\n",
              "    }\n",
              "\n",
              "    .colab-df-convert {\n",
              "      background-color: #E8F0FE;\n",
              "      border: none;\n",
              "      border-radius: 50%;\n",
              "      cursor: pointer;\n",
              "      display: none;\n",
              "      fill: #1967D2;\n",
              "      height: 32px;\n",
              "      padding: 0 0 0 0;\n",
              "      width: 32px;\n",
              "    }\n",
              "\n",
              "    .colab-df-convert:hover {\n",
              "      background-color: #E2EBFA;\n",
              "      box-shadow: 0px 1px 2px rgba(60, 64, 67, 0.3), 0px 1px 3px 1px rgba(60, 64, 67, 0.15);\n",
              "      fill: #174EA6;\n",
              "    }\n",
              "\n",
              "    [theme=dark] .colab-df-convert {\n",
              "      background-color: #3B4455;\n",
              "      fill: #D2E3FC;\n",
              "    }\n",
              "\n",
              "    [theme=dark] .colab-df-convert:hover {\n",
              "      background-color: #434B5C;\n",
              "      box-shadow: 0px 1px 3px 1px rgba(0, 0, 0, 0.15);\n",
              "      filter: drop-shadow(0px 1px 2px rgba(0, 0, 0, 0.3));\n",
              "      fill: #FFFFFF;\n",
              "    }\n",
              "  </style>\n",
              "\n",
              "      <script>\n",
              "        const buttonEl =\n",
              "          document.querySelector('#df-13402ba4-cdac-4343-805c-811dfb16284b button.colab-df-convert');\n",
              "        buttonEl.style.display =\n",
              "          google.colab.kernel.accessAllowed ? 'block' : 'none';\n",
              "\n",
              "        async function convertToInteractive(key) {\n",
              "          const element = document.querySelector('#df-13402ba4-cdac-4343-805c-811dfb16284b');\n",
              "          const dataTable =\n",
              "            await google.colab.kernel.invokeFunction('convertToInteractive',\n",
              "                                                     [key], {});\n",
              "          if (!dataTable) return;\n",
              "\n",
              "          const docLinkHtml = 'Like what you see? Visit the ' +\n",
              "            '<a target=\"_blank\" href=https://colab.research.google.com/notebooks/data_table.ipynb>data table notebook</a>'\n",
              "            + ' to learn more about interactive tables.';\n",
              "          element.innerHTML = '';\n",
              "          dataTable['output_type'] = 'display_data';\n",
              "          await google.colab.output.renderOutput(dataTable, element);\n",
              "          const docLink = document.createElement('div');\n",
              "          docLink.innerHTML = docLinkHtml;\n",
              "          element.appendChild(docLink);\n",
              "        }\n",
              "      </script>\n",
              "    </div>\n",
              "  </div>\n",
              "  "
            ]
          },
          "metadata": {},
          "execution_count": 10
        }
      ]
    },
    {
      "cell_type": "code",
      "source": [
        "import matplotlib.pyplot as plt\n",
        "plt.plot(df.index, df['Close'])"
      ],
      "metadata": {
        "colab": {
          "base_uri": "https://localhost:8080/",
          "height": 282
        },
        "id": "wdDoNSfX6zbj",
        "outputId": "0d7b254e-8528-4e95-d345-bfbf92d1c850"
      },
      "execution_count": 13,
      "outputs": [
        {
          "output_type": "execute_result",
          "data": {
            "text/plain": [
              "[<matplotlib.lines.Line2D at 0x7f4575de6050>]"
            ]
          },
          "metadata": {},
          "execution_count": 13
        },
        {
          "output_type": "display_data",
          "data": {
            "text/plain": [
              "<Figure size 432x288 with 1 Axes>"
            ],
            "image/png": "[encoded data removed]"
          },
          "metadata": {
            "needs_background": "light"
          }
        }
      ]
    },
    {
      "cell_type": "code",
      "source": [
        "import numpy as np\n",
        "import datetime\n",
        "\n",
        "def df_to_windowed_df(dataframe, first_date_str, last_date_str, n=3):\n",
        "  first_date = datetime.datetime.strptime(first_date_str, '%Y-%m-%d')\n",
        "  last_date  = datetime.datetime.strptime(last_date_str, '%Y-%m-%d')\n",
        "\n",
        "  target_date = first_date\n",
        "  \n",
        "  dates = []\n",
        "  X, Y = [], []\n",
        "\n",
        "  last_time = False\n",
        "  while True:\n",
        "    df_subset = dataframe.loc[:target_date].tail(n+1)\n",
        "    \n",
        "    if len(df_subset) != n+1:\n",
        "      print(f'Error: Window of size {n} is too large for date {target_date}')\n",
        "      return\n",
        "\n",
        "    values = df_subset['Close'].to_numpy()\n",
        "    x, y = values[:-1], values[-1]\n",
        "\n",
        "    dates.append(target_date)\n",
        "    X.append(x)\n",
        "    Y.append(y)\n",
        "\n",
        "    next_week = dataframe.loc[target_date:target_date+datetime.timedelta(days=7)]\n",
        "    next_datetime_str = str(next_week.head(2).tail(1).index.values[0])\n",
        "    next_date_str = next_datetime_str.split('T')[0]\n",
        "    year_month_day = next_date_str.split('-')\n",
        "    year, month, day = year_month_day\n",
        "    next_date = datetime.datetime(day=int(day), month=int(month), year=int(year))\n",
        "    \n",
        "    if last_time:\n",
        "      break\n",
        "    \n",
        "    target_date = next_date\n",
        "\n",
        "    if target_date == last_date:\n",
        "      last_time = True\n",
        "    \n",
        "  ret_df = pd.DataFrame({})\n",
        "  ret_df['Target Date'] = dates\n",
        "  \n",
        "  X = np.array(X)\n",
        "  for i in range(0, n):\n",
        "    X[:, i]\n",
        "    ret_df[f'Target-{n-i}'] = X[:, i]\n",
        "  \n",
        "  ret_df['Target'] = Y\n",
        "\n",
        "  return ret_df\n",
        "\n",
        "# Start day second time around: '2021-03-25'\n",
        "windowed_df = df_to_windowed_df(df, \n",
        "                                '2021-03-25', \n",
        "                                '2022-10-21', \n",
        "                                n=3)\n",
        "windowed_df"
      ],
      "metadata": {
        "colab": {
          "base_uri": "https://localhost:8080/",
          "height": 419
        },
        "id": "eoGB246-Ihys",
        "outputId": "83badd1e-61e3-4ecd-d0fe-6c9e3e49bb8a"
      },
      "execution_count": 26,
      "outputs": [
        {
          "output_type": "execute_result",
          "data": {
            "text/plain": [
              "    Target Date    Target-3    Target-2    Target-1      Target\n",
              "0    2021-03-25  235.990005  237.580002  235.460007  232.339996\n",
              "1    2021-03-26  237.580002  235.460007  232.339996  236.479996\n",
              "2    2021-03-29  235.460007  232.339996  236.479996  235.240005\n",
              "3    2021-03-30  232.339996  236.479996  235.240005  231.850006\n",
              "4    2021-03-31  236.479996  235.240005  231.850006  235.770004\n",
              "..          ...         ...         ...         ...         ...\n",
              "394  2022-10-17  225.750000  234.240005  228.559998  237.529999\n",
              "395  2022-10-18  234.240005  228.559998  237.529999  238.500000\n",
              "396  2022-10-19  228.559998  237.529999  238.500000  236.479996\n",
              "397  2022-10-20  237.529999  238.500000  236.479996  236.149994\n",
              "398  2022-10-21  238.500000  236.479996  236.149994  242.119995\n",
              "\n",
              "[399 rows x 5 columns]"
            ],
            "text/html": [
              "\n",
              "  <div id=\"df-b4b2f30a-6d19-42a4-b6af-3cd4b6d3993a\">\n",
              "    <div class=\"colab-df-container\">\n",
              "      <div>\n",
              "<style scoped>\n",
              "    .dataframe tbody tr th:only-of-type {\n",
              "        vertical-align: middle;\n",
              "    }\n",
              "\n",
              "    .dataframe tbody tr th {\n",
              "        vertical-align: top;\n",
              "    }\n",
              "\n",
              "    .dataframe thead th {\n",
              "        text-align: right;\n",
              "    }\n",
              "</style>\n",
              "<table border=\"1\" class=\"dataframe\">\n",
              "  <thead>\n",
              "    <tr style=\"text-align: right;\">\n",
              "      <th></th>\n",
              "      <th>Target Date</th>\n",
              "      <th>Target-3</th>\n",
              "      <th>Target-2</th>\n",
              "      <th>Target-1</th>\n",
              "      <th>Target</th>\n",
              "    </tr>\n",
              "  </thead>\n",
              "  <tbody>\n",
              "    <tr>\n",
              "      <th>0</th>\n",
              "      <td>2021-03-25</td>\n",
              "      <td>235.990005</td>\n",
              "      <td>237.580002</td>\n",
              "      <td>235.460007</td>\n",
              "      <td>232.339996</td>\n",
              "    </tr>\n",
              "    <tr>\n",
              "      <th>1</th>\n",
              "      <td>2021-03-26</td>\n",
              "      <td>237.580002</td>\n",
              "      <td>235.460007</td>\n",
              "      <td>232.339996</td>\n",
              "      <td>236.479996</td>\n",
              "    </tr>\n",
              "    <tr>\n",
              "      <th>2</th>\n",
              "      <td>2021-03-29</td>\n",
              "      <td>235.460007</td>\n",
              "      <td>232.339996</td>\n",
              "      <td>236.479996</td>\n",
              "      <td>235.240005</td>\n",
              "    </tr>\n",
              "    <tr>\n",
              "      <th>3</th>\n",
              "      <td>2021-03-30</td>\n",
              "      <td>232.339996</td>\n",
              "      <td>236.479996</td>\n",
              "      <td>235.240005</td>\n",
              "      <td>231.850006</td>\n",
              "    </tr>\n",
              "    <tr>\n",
              "      <th>4</th>\n",
              "      <td>2021-03-31</td>\n",
              "      <td>236.479996</td>\n",
              "      <td>235.240005</td>\n",
              "      <td>231.850006</td>\n",
              "      <td>235.770004</td>\n",
              "    </tr>\n",
              "    <tr>\n",
              "      <th>...</th>\n",
              "      <td>...</td>\n",
              "      <td>...</td>\n",
              "      <td>...</td>\n",
              "      <td>...</td>\n",
              "      <td>...</td>\n",
              "    </tr>\n",
              "    <tr>\n",
              "      <th>394</th>\n",
              "      <td>2022-10-17</td>\n",
              "      <td>225.750000</td>\n",
              "      <td>234.240005</td>\n",
              "      <td>228.559998</td>\n",
              "      <td>237.529999</td>\n",
              "    </tr>\n",
              "    <tr>\n",
              "      <th>395</th>\n",
              "      <td>2022-10-18</td>\n",
              "      <td>234.240005</td>\n",
              "      <td>228.559998</td>\n",
              "      <td>237.529999</td>\n",
              "      <td>238.500000</td>\n",
              "    </tr>\n",
              "    <tr>\n",
              "      <th>396</th>\n",
              "      <td>2022-10-19</td>\n",
              "      <td>228.559998</td>\n",
              "      <td>237.529999</td>\n",
              "      <td>238.500000</td>\n",
              "      <td>236.479996</td>\n",
              "    </tr>\n",
              "    <tr>\n",
              "      <th>397</th>\n",
              "      <td>2022-10-20</td>\n",
              "      <td>237.529999</td>\n",
              "      <td>238.500000</td>\n",
              "      <td>236.479996</td>\n",
              "      <td>236.149994</td>\n",
              "    </tr>\n",
              "    <tr>\n",
              "      <th>398</th>\n",
              "      <td>2022-10-21</td>\n",
              "      <td>238.500000</td>\n",
              "      <td>236.479996</td>\n",
              "      <td>236.149994</td>\n",
              "      <td>242.119995</td>\n",
              "    </tr>\n",
              "  </tbody>\n",
              "</table>\n",
              "<p>399 rows × 5 columns</p>\n",
              "</div>\n",
              "      <button class=\"colab-df-convert\" onclick=\"convertToInteractive('df-b4b2f30a-6d19-42a4-b6af-3cd4b6d3993a')\"\n",
              "              title=\"Convert this dataframe to an interactive table.\"\n",
              "              style=\"display:none;\">\n",
              "        \n",
              "  <svg xmlns=\"http://www.w3.org/2000/svg\" height=\"24px\"viewBox=\"0 0 24 24\"\n",
              "       width=\"24px\">\n",
              "    <path d=\"M0 0h24v24H0V0z\" fill=\"none\"/>\n",
              "    <path d=\"M18.56 5.44l.94 2.06.94-2.06 2.06-.94-2.06-.94-.94-2.06-.94 2.06-2.06.94zm-11 1L8.5 8.5l.94-2.06 2.06-.94-2.06-.94L8.5 2.5l-.94 2.06-2.06.94zm10 10l.94 2.06.94-2.06 2.06-.94-2.06-.94-.94-2.06-.94 2.06-2.06.94z\"/><path d=\"M17.41 7.96l-1.37-1.37c-.4-.4-.92-.59-1.43-.59-.52 0-1.04.2-1.43.59L10.3 9.45l-7.72 7.72c-.78.78-.78 2.05 0 2.83L4 21.41c.39.39.9.59 1.41.59.51 0 1.02-.2 1.41-.59l7.78-7.78 2.81-2.81c.8-.78.8-2.07 0-2.86zM5.41 20L4 18.59l7.72-7.72 1.47 1.35L5.41 20z\"/>\n",
              "  </svg>\n",
              "      </button>\n",
              "      \n",
              "  <style>\n",
              "    .colab-df-container {\n",
              "      display:flex;\n",
              "      flex-wrap:wrap;\n",
              "      gap: 12px;\n",
              "    }\n",
              "\n",
              "    .colab-df-convert {\n",
              "      background-color: #E8F0FE;\n",
              "      border: none;\n",
              "      border-radius: 50%;\n",
              "      cursor: pointer;\n",
              "      display: none;\n",
              "      fill: #1967D2;\n",
              "      height: 32px;\n",
              "      padding: 0 0 0 0;\n",
              "      width: 32px;\n",
              "    }\n",
              "\n",
              "    .colab-df-convert:hover {\n",
              "      background-color: #E2EBFA;\n",
              "      box-shadow: 0px 1px 2px rgba(60, 64, 67, 0.3), 0px 1px 3px 1px rgba(60, 64, 67, 0.15);\n",
              "      fill: #174EA6;\n",
              "    }\n",
              "\n",
              "    [theme=dark] .colab-df-convert {\n",
              "      background-color: #3B4455;\n",
              "      fill: #D2E3FC;\n",
              "    }\n",
              "\n",
              "    [theme=dark] .colab-df-convert:hover {\n",
              "      background-color: #434B5C;\n",
              "      box-shadow: 0px 1px 3px 1px rgba(0, 0, 0, 0.15);\n",
              "      filter: drop-shadow(0px 1px 2px rgba(0, 0, 0, 0.3));\n",
              "      fill: #FFFFFF;\n",
              "    }\n",
              "  </style>\n",
              "\n",
              "      <script>\n",
              "        const buttonEl =\n",
              "          document.querySelector('#df-b4b2f30a-6d19-42a4-b6af-3cd4b6d3993a button.colab-df-convert');\n",
              "        buttonEl.style.display =\n",
              "          google.colab.kernel.accessAllowed ? 'block' : 'none';\n",
              "\n",
              "        async function convertToInteractive(key) {\n",
              "          const element = document.querySelector('#df-b4b2f30a-6d19-42a4-b6af-3cd4b6d3993a');\n",
              "          const dataTable =\n",
              "            await google.colab.kernel.invokeFunction('convertToInteractive',\n",
              "                                                     [key], {});\n",
              "          if (!dataTable) return;\n",
              "\n",
              "          const docLinkHtml = 'Like what you see? Visit the ' +\n",
              "            '<a target=\"_blank\" href=https://colab.research.google.com/notebooks/data_table.ipynb>data table notebook</a>'\n",
              "            + ' to learn more about interactive tables.';\n",
              "          element.innerHTML = '';\n",
              "          dataTable['output_type'] = 'display_data';\n",
              "          await google.colab.output.renderOutput(dataTable, element);\n",
              "          const docLink = document.createElement('div');\n",
              "          docLink.innerHTML = docLinkHtml;\n",
              "          element.appendChild(docLink);\n",
              "        }\n",
              "      </script>\n",
              "    </div>\n",
              "  </div>\n",
              "  "
            ]
          },
          "metadata": {},
          "execution_count": 26
        }
      ]
    },
    {
      "cell_type": "code",
      "source": [
        "def windowed_df_to_date_X_y(windowed_dataframe):\n",
        "  df_as_np = windowed_dataframe.to_numpy()\n",
        "\n",
        "  dates = df_as_np[:, 0]\n",
        "\n",
        "  middle_matrix = df_as_np[:, 1:-1]\n",
        "  X = middle_matrix.reshape((len(dates), middle_matrix.shape[1], 1))\n",
        "\n",
        "  Y = df_as_np[:, -1]\n",
        "\n",
        "  return dates, X.astype(np.float32), Y.astype(np.float32)\n",
        "\n",
        "dates, X, y = windowed_df_to_date_X_y(windowed_df)\n",
        "\n",
        "dates.shape, X.shape, y.shape"
      ],
      "metadata": {
        "colab": {
          "base_uri": "https://localhost:8080/"
        },
        "id": "SP5bpfqQPkOt",
        "outputId": "1dd3c064-bb61-4b7a-eb87-1383bd36119d"
      },
      "execution_count": 27,
      "outputs": [
        {
          "output_type": "execute_result",
          "data": {
            "text/plain": [
              "((399,), (399, 3, 1), (399,))"
            ]
          },
          "metadata": {},
          "execution_count": 27
        }
      ]
    },
    {
      "cell_type": "code",
      "source": [
        "q_80 = int(len(dates) * .8)\n",
        "q_90 = int(len(dates) * .9)\n",
        "\n",
        "dates_train, X_train, y_train = dates[:q_80], X[:q_80], y[:q_80]\n",
        "\n",
        "dates_val, X_val, y_val = dates[q_80:q_90], X[q_80:q_90], y[q_80:q_90]\n",
        "dates_test, X_test, y_test = dates[q_90:], X[q_90:], y[q_90:]\n",
        "\n",
        "plt.plot(dates_train, y_train)\n",
        "plt.plot(dates_val, y_val)\n",
        "plt.plot(dates_test, y_test)\n",
        "\n",
        "plt.legend(['Train', 'Validation', 'Test'])"
      ],
      "metadata": {
        "colab": {
          "base_uri": "https://localhost:8080/",
          "height": 282
        },
        "id": "yginzkmrPnNT",
        "outputId": "f35e1126-711d-4a63-9c18-7b3b19c5d07d"
      },
      "execution_count": 28,
      "outputs": [
        {
          "output_type": "execute_result",
          "data": {
            "text/plain": [
              "<matplotlib.legend.Legend at 0x7f4575011c10>"
            ]
          },
          "metadata": {},
          "execution_count": 28
        },
        {
          "output_type": "display_data",
          "data": {
            "text/plain": [
              "<Figure size 432x288 with 1 Axes>"
            ],
            "image/png": "[encoded data removed]"
          },
          "metadata": {
            "needs_background": "light"
          }
        }
      ]
    },
    {
      "cell_type": "code",
      "source": [
        "from tensorflow.keras.models import Sequential\n",
        "from tensorflow.keras.optimizers import Adam\n",
        "from tensorflow.keras import layers\n",
        "\n",
        "model = Sequential([layers.Input((3, 1)),\n",
        "                    layers.LSTM(64),\n",
        "                    layers.Dense(32, activation='relu'),\n",
        "                    layers.Dense(32, activation='relu'),\n",
        "                    layers.Dense(1)])\n",
        "\n",
        "model.compile(loss='mse', \n",
        "              optimizer=Adam(learning_rate=0.001),\n",
        "              metrics=['mean_absolute_error'])\n",
        "\n",
        "model.fit(X_train, y_train, validation_data=(X_val, y_val), epochs=100)"
      ],
      "metadata": {
        "colab": {
          "base_uri": "https://localhost:8080/"
        },
        "id": "gAhK-dp2Pre9",
        "outputId": "2d2d7dd2-dc08-4707-e20c-b6b65b1cdd0e"
      },
      "execution_count": 29,
      "outputs": [
        {
          "output_type": "stream",
          "name": "stdout",
          "text": [
            "Epoch 1/100\n",
            "10/10 [==============================] - 3s 66ms/step - loss: 82935.1406 - mean_absolute_error: 286.6243 - val_loss: 73481.9766 - val_mean_absolute_error: 270.7670\n",
            "Epoch 2/100\n",
            "10/10 [==============================] - 0s 6ms/step - loss: 82320.4609 - mean_absolute_error: 285.5507 - val_loss: 72836.0156 - val_mean_absolute_error: 269.5715\n",
            "Epoch 3/100\n",
            "10/10 [==============================] - 0s 6ms/step - loss: 81594.7266 - mean_absolute_error: 284.2728 - val_loss: 72067.5469 - val_mean_absolute_error: 268.1417\n",
            "Epoch 4/100\n",
            "10/10 [==============================] - 0s 6ms/step - loss: 80562.8906 - mean_absolute_error: 282.4523 - val_loss: 70747.9219 - val_mean_absolute_error: 265.6699\n",
            "Epoch 5/100\n",
            "10/10 [==============================] - 0s 6ms/step - loss: 78802.3359 - mean_absolute_error: 279.3190 - val_loss: 68632.5156 - val_mean_absolute_error: 261.6589\n",
            "Epoch 6/100\n",
            "10/10 [==============================] - 0s 8ms/step - loss: 76481.8906 - mean_absolute_error: 275.1373 - val_loss: 66396.0469 - val_mean_absolute_error: 257.3484\n",
            "Epoch 7/100\n",
            "10/10 [==============================] - 0s 6ms/step - loss: 73598.9297 - mean_absolute_error: 269.8622 - val_loss: 62922.4297 - val_mean_absolute_error: 250.5079\n",
            "Epoch 8/100\n",
            "10/10 [==============================] - 0s 6ms/step - loss: 69353.0391 - mean_absolute_error: 261.8437 - val_loss: 58663.1016 - val_mean_absolute_error: 241.8593\n",
            "Epoch 9/100\n",
            "10/10 [==============================] - 0s 6ms/step - loss: 64893.6172 - mean_absolute_error: 253.1778 - val_loss: 54204.9609 - val_mean_absolute_error: 232.4579\n",
            "Epoch 10/100\n",
            "10/10 [==============================] - 0s 7ms/step - loss: 59237.7930 - mean_absolute_error: 241.7238 - val_loss: 47888.7422 - val_mean_absolute_error: 218.4511\n",
            "Epoch 11/100\n",
            "10/10 [==============================] - 0s 6ms/step - loss: 52229.6758 - mean_absolute_error: 226.8346 - val_loss: 41283.6445 - val_mean_absolute_error: 202.7702\n",
            "Epoch 12/100\n",
            "10/10 [==============================] - 0s 6ms/step - loss: 45065.2461 - mean_absolute_error: 210.3259 - val_loss: 34506.1797 - val_mean_absolute_error: 185.3074\n",
            "Epoch 13/100\n",
            "10/10 [==============================] - 0s 6ms/step - loss: 37616.1094 - mean_absolute_error: 191.8140 - val_loss: 27353.0938 - val_mean_absolute_error: 164.8806\n",
            "Epoch 14/100\n",
            "10/10 [==============================] - 0s 6ms/step - loss: 29939.7578 - mean_absolute_error: 170.6603 - val_loss: 20739.1914 - val_mean_absolute_error: 143.4295\n",
            "Epoch 15/100\n",
            "10/10 [==============================] - 0s 6ms/step - loss: 22883.9512 - mean_absolute_error: 148.6127 - val_loss: 14721.4473 - val_mean_absolute_error: 120.6410\n",
            "Epoch 16/100\n",
            "10/10 [==============================] - 0s 7ms/step - loss: 16525.7031 - mean_absolute_error: 125.1590 - val_loss: 9310.8496 - val_mean_absolute_error: 95.6107\n",
            "Epoch 17/100\n",
            "10/10 [==============================] - 0s 6ms/step - loss: 10528.5703 - mean_absolute_error: 98.1686 - val_loss: 4799.2969 - val_mean_absolute_error: 68.0599\n",
            "Epoch 18/100\n",
            "10/10 [==============================] - 0s 6ms/step - loss: 6108.7046 - mean_absolute_error: 72.7673 - val_loss: 2176.6597 - val_mean_absolute_error: 44.8275\n",
            "Epoch 19/100\n",
            "10/10 [==============================] - 0s 6ms/step - loss: 3414.6160 - mean_absolute_error: 50.8048 - val_loss: 759.6110 - val_mean_absolute_error: 24.3395\n",
            "Epoch 20/100\n",
            "10/10 [==============================] - 0s 6ms/step - loss: 1824.1630 - mean_absolute_error: 34.8466 - val_loss: 208.7618 - val_mean_absolute_error: 12.2832\n",
            "Epoch 21/100\n",
            "10/10 [==============================] - 0s 6ms/step - loss: 1008.6307 - mean_absolute_error: 26.4632 - val_loss: 228.1563 - val_mean_absolute_error: 12.3946\n",
            "Epoch 22/100\n",
            "10/10 [==============================] - 0s 6ms/step - loss: 789.9666 - mean_absolute_error: 23.2453 - val_loss: 393.2455 - val_mean_absolute_error: 16.2647\n",
            "Epoch 23/100\n",
            "10/10 [==============================] - 0s 6ms/step - loss: 768.9839 - mean_absolute_error: 22.8626 - val_loss: 489.1968 - val_mean_absolute_error: 18.3943\n",
            "Epoch 24/100\n",
            "10/10 [==============================] - 0s 6ms/step - loss: 733.1019 - mean_absolute_error: 22.2915 - val_loss: 356.9142 - val_mean_absolute_error: 15.4414\n",
            "Epoch 25/100\n",
            "10/10 [==============================] - 0s 7ms/step - loss: 727.3423 - mean_absolute_error: 22.2870 - val_loss: 319.7585 - val_mean_absolute_error: 14.5409\n",
            "Epoch 26/100\n",
            "10/10 [==============================] - 0s 7ms/step - loss: 704.0579 - mean_absolute_error: 21.8906 - val_loss: 391.6125 - val_mean_absolute_error: 16.2926\n",
            "Epoch 27/100\n",
            "10/10 [==============================] - 0s 6ms/step - loss: 692.2709 - mean_absolute_error: 21.6919 - val_loss: 434.2389 - val_mean_absolute_error: 17.3151\n",
            "Epoch 28/100\n",
            "10/10 [==============================] - 0s 6ms/step - loss: 675.1309 - mean_absolute_error: 21.4386 - val_loss: 312.9465 - val_mean_absolute_error: 14.3934\n",
            "Epoch 29/100\n",
            "10/10 [==============================] - 0s 6ms/step - loss: 657.1313 - mean_absolute_error: 21.1281 - val_loss: 325.8850 - val_mean_absolute_error: 14.7393\n",
            "Epoch 30/100\n",
            "10/10 [==============================] - 0s 6ms/step - loss: 647.1646 - mean_absolute_error: 20.9306 - val_loss: 320.7217 - val_mean_absolute_error: 14.6294\n",
            "Epoch 31/100\n",
            "10/10 [==============================] - 0s 6ms/step - loss: 627.4317 - mean_absolute_error: 20.6530 - val_loss: 312.0790 - val_mean_absolute_error: 14.4202\n",
            "Epoch 32/100\n",
            "10/10 [==============================] - 0s 6ms/step - loss: 607.1133 - mean_absolute_error: 20.3068 - val_loss: 251.8918 - val_mean_absolute_error: 12.7999\n",
            "Epoch 33/100\n",
            "10/10 [==============================] - 0s 6ms/step - loss: 596.5353 - mean_absolute_error: 20.2084 - val_loss: 280.6481 - val_mean_absolute_error: 13.6044\n",
            "Epoch 34/100\n",
            "10/10 [==============================] - 0s 6ms/step - loss: 588.3597 - mean_absolute_error: 19.9659 - val_loss: 231.0646 - val_mean_absolute_error: 12.2247\n",
            "Epoch 35/100\n",
            "10/10 [==============================] - 0s 6ms/step - loss: 568.8615 - mean_absolute_error: 19.7460 - val_loss: 224.5874 - val_mean_absolute_error: 12.0356\n",
            "Epoch 36/100\n",
            "10/10 [==============================] - 0s 6ms/step - loss: 534.1378 - mean_absolute_error: 18.9362 - val_loss: 190.5204 - val_mean_absolute_error: 11.0675\n",
            "Epoch 37/100\n",
            "10/10 [==============================] - 0s 6ms/step - loss: 481.0459 - mean_absolute_error: 18.0263 - val_loss: 202.2201 - val_mean_absolute_error: 11.5119\n",
            "Epoch 38/100\n",
            "10/10 [==============================] - 0s 7ms/step - loss: 469.4062 - mean_absolute_error: 17.9373 - val_loss: 196.3208 - val_mean_absolute_error: 11.3481\n",
            "Epoch 39/100\n",
            "10/10 [==============================] - 0s 7ms/step - loss: 425.9641 - mean_absolute_error: 16.9115 - val_loss: 206.8091 - val_mean_absolute_error: 11.7361\n",
            "Epoch 40/100\n",
            "10/10 [==============================] - 0s 6ms/step - loss: 378.5839 - mean_absolute_error: 15.9389 - val_loss: 162.4932 - val_mean_absolute_error: 10.3269\n",
            "Epoch 41/100\n",
            "10/10 [==============================] - 0s 7ms/step - loss: 319.0826 - mean_absolute_error: 14.5700 - val_loss: 79.2001 - val_mean_absolute_error: 7.1443\n",
            "Epoch 42/100\n",
            "10/10 [==============================] - 0s 7ms/step - loss: 284.7311 - mean_absolute_error: 13.7468 - val_loss: 87.9980 - val_mean_absolute_error: 7.4241\n",
            "Epoch 43/100\n",
            "10/10 [==============================] - 0s 6ms/step - loss: 233.2973 - mean_absolute_error: 12.1594 - val_loss: 83.5295 - val_mean_absolute_error: 7.2701\n",
            "Epoch 44/100\n",
            "10/10 [==============================] - 0s 6ms/step - loss: 196.5995 - mean_absolute_error: 11.0950 - val_loss: 88.1982 - val_mean_absolute_error: 7.5761\n",
            "Epoch 45/100\n",
            "10/10 [==============================] - 0s 7ms/step - loss: 187.5424 - mean_absolute_error: 10.8847 - val_loss: 41.8438 - val_mean_absolute_error: 5.2796\n",
            "Epoch 46/100\n",
            "10/10 [==============================] - 0s 7ms/step - loss: 151.4231 - mean_absolute_error: 9.6626 - val_loss: 38.0581 - val_mean_absolute_error: 5.0393\n",
            "Epoch 47/100\n",
            "10/10 [==============================] - 0s 6ms/step - loss: 135.1031 - mean_absolute_error: 9.1814 - val_loss: 80.1685 - val_mean_absolute_error: 7.4924\n",
            "Epoch 48/100\n",
            "10/10 [==============================] - 0s 6ms/step - loss: 119.7543 - mean_absolute_error: 8.7073 - val_loss: 37.8906 - val_mean_absolute_error: 4.9192\n",
            "Epoch 49/100\n",
            "10/10 [==============================] - 0s 6ms/step - loss: 100.1380 - mean_absolute_error: 7.8562 - val_loss: 30.7128 - val_mean_absolute_error: 4.3125\n",
            "Epoch 50/100\n",
            "10/10 [==============================] - 0s 8ms/step - loss: 93.1636 - mean_absolute_error: 7.4457 - val_loss: 78.5486 - val_mean_absolute_error: 7.6636\n",
            "Epoch 51/100\n",
            "10/10 [==============================] - 0s 6ms/step - loss: 88.8524 - mean_absolute_error: 7.5563 - val_loss: 41.8762 - val_mean_absolute_error: 5.3436\n",
            "Epoch 52/100\n",
            "10/10 [==============================] - 0s 7ms/step - loss: 84.1266 - mean_absolute_error: 7.4018 - val_loss: 81.3388 - val_mean_absolute_error: 7.9004\n",
            "Epoch 53/100\n",
            "10/10 [==============================] - 0s 8ms/step - loss: 71.9921 - mean_absolute_error: 6.7293 - val_loss: 31.2538 - val_mean_absolute_error: 4.4600\n",
            "Epoch 54/100\n",
            "10/10 [==============================] - 0s 6ms/step - loss: 60.7580 - mean_absolute_error: 6.0221 - val_loss: 26.5446 - val_mean_absolute_error: 3.9480\n",
            "Epoch 55/100\n",
            "10/10 [==============================] - 0s 6ms/step - loss: 52.0983 - mean_absolute_error: 5.5688 - val_loss: 27.0273 - val_mean_absolute_error: 4.0256\n",
            "Epoch 56/100\n",
            "10/10 [==============================] - 0s 6ms/step - loss: 55.8405 - mean_absolute_error: 5.8750 - val_loss: 25.2276 - val_mean_absolute_error: 3.8243\n",
            "Epoch 57/100\n",
            "10/10 [==============================] - 0s 6ms/step - loss: 47.6417 - mean_absolute_error: 5.3926 - val_loss: 28.2890 - val_mean_absolute_error: 4.1738\n",
            "Epoch 58/100\n",
            "10/10 [==============================] - 0s 6ms/step - loss: 50.5848 - mean_absolute_error: 5.5929 - val_loss: 31.9717 - val_mean_absolute_error: 4.4236\n",
            "Epoch 59/100\n",
            "10/10 [==============================] - 0s 6ms/step - loss: 54.6142 - mean_absolute_error: 5.9591 - val_loss: 46.0751 - val_mean_absolute_error: 5.6034\n",
            "Epoch 60/100\n",
            "10/10 [==============================] - 0s 6ms/step - loss: 40.7781 - mean_absolute_error: 5.0160 - val_loss: 25.8334 - val_mean_absolute_error: 3.8952\n",
            "Epoch 61/100\n",
            "10/10 [==============================] - 0s 6ms/step - loss: 35.4308 - mean_absolute_error: 4.5741 - val_loss: 27.1309 - val_mean_absolute_error: 4.1104\n",
            "Epoch 62/100\n",
            "10/10 [==============================] - 0s 6ms/step - loss: 41.1204 - mean_absolute_error: 5.1140 - val_loss: 38.0051 - val_mean_absolute_error: 4.7931\n",
            "Epoch 63/100\n",
            "10/10 [==============================] - 0s 6ms/step - loss: 36.9977 - mean_absolute_error: 4.7938 - val_loss: 25.7831 - val_mean_absolute_error: 3.9295\n",
            "Epoch 64/100\n",
            "10/10 [==============================] - 0s 7ms/step - loss: 34.0404 - mean_absolute_error: 4.5766 - val_loss: 32.1037 - val_mean_absolute_error: 4.3391\n",
            "Epoch 65/100\n",
            "10/10 [==============================] - 0s 6ms/step - loss: 32.0391 - mean_absolute_error: 4.4739 - val_loss: 26.6852 - val_mean_absolute_error: 3.9760\n",
            "Epoch 66/100\n",
            "10/10 [==============================] - 0s 6ms/step - loss: 29.6535 - mean_absolute_error: 4.2731 - val_loss: 27.3850 - val_mean_absolute_error: 4.0549\n",
            "Epoch 67/100\n",
            "10/10 [==============================] - 0s 6ms/step - loss: 34.4179 - mean_absolute_error: 4.6472 - val_loss: 26.6684 - val_mean_absolute_error: 3.9842\n",
            "Epoch 68/100\n",
            "10/10 [==============================] - 0s 7ms/step - loss: 38.7683 - mean_absolute_error: 4.9232 - val_loss: 39.3427 - val_mean_absolute_error: 4.9074\n",
            "Epoch 69/100\n",
            "10/10 [==============================] - 0s 6ms/step - loss: 33.1136 - mean_absolute_error: 4.5972 - val_loss: 26.2401 - val_mean_absolute_error: 4.0164\n",
            "Epoch 70/100\n",
            "10/10 [==============================] - 0s 6ms/step - loss: 33.1350 - mean_absolute_error: 4.6069 - val_loss: 28.8531 - val_mean_absolute_error: 4.1191\n",
            "Epoch 71/100\n",
            "10/10 [==============================] - 0s 6ms/step - loss: 31.4391 - mean_absolute_error: 4.4106 - val_loss: 31.6603 - val_mean_absolute_error: 4.2861\n",
            "Epoch 72/100\n",
            "10/10 [==============================] - 0s 6ms/step - loss: 31.1340 - mean_absolute_error: 4.4451 - val_loss: 26.1496 - val_mean_absolute_error: 3.9274\n",
            "Epoch 73/100\n",
            "10/10 [==============================] - 0s 6ms/step - loss: 28.9613 - mean_absolute_error: 4.2201 - val_loss: 28.2252 - val_mean_absolute_error: 4.2276\n",
            "Epoch 74/100\n",
            "10/10 [==============================] - 0s 6ms/step - loss: 28.9860 - mean_absolute_error: 4.2602 - val_loss: 30.7376 - val_mean_absolute_error: 4.3864\n",
            "Epoch 75/100\n",
            "10/10 [==============================] - 0s 6ms/step - loss: 32.0445 - mean_absolute_error: 4.4852 - val_loss: 38.6877 - val_mean_absolute_error: 4.9273\n",
            "Epoch 76/100\n",
            "10/10 [==============================] - 0s 6ms/step - loss: 35.6696 - mean_absolute_error: 4.7096 - val_loss: 26.3081 - val_mean_absolute_error: 3.9915\n",
            "Epoch 77/100\n",
            "10/10 [==============================] - 0s 6ms/step - loss: 30.5969 - mean_absolute_error: 4.3135 - val_loss: 27.5831 - val_mean_absolute_error: 4.0171\n",
            "Epoch 78/100\n",
            "10/10 [==============================] - 0s 6ms/step - loss: 30.0231 - mean_absolute_error: 4.3459 - val_loss: 29.2240 - val_mean_absolute_error: 4.1348\n",
            "Epoch 79/100\n",
            "10/10 [==============================] - 0s 6ms/step - loss: 29.2687 - mean_absolute_error: 4.3032 - val_loss: 28.7682 - val_mean_absolute_error: 4.2242\n",
            "Epoch 80/100\n",
            "10/10 [==============================] - 0s 6ms/step - loss: 29.6076 - mean_absolute_error: 4.1886 - val_loss: 29.6296 - val_mean_absolute_error: 4.1621\n",
            "Epoch 81/100\n",
            "10/10 [==============================] - 0s 6ms/step - loss: 26.8843 - mean_absolute_error: 4.0858 - val_loss: 29.3901 - val_mean_absolute_error: 4.3154\n",
            "Epoch 82/100\n",
            "10/10 [==============================] - 0s 8ms/step - loss: 32.8081 - mean_absolute_error: 4.5388 - val_loss: 37.3969 - val_mean_absolute_error: 4.7754\n",
            "Epoch 83/100\n",
            "10/10 [==============================] - 0s 6ms/step - loss: 38.5050 - mean_absolute_error: 4.9428 - val_loss: 25.7064 - val_mean_absolute_error: 3.8641\n",
            "Epoch 84/100\n",
            "10/10 [==============================] - 0s 6ms/step - loss: 27.6141 - mean_absolute_error: 4.1429 - val_loss: 25.8912 - val_mean_absolute_error: 3.9369\n",
            "Epoch 85/100\n",
            "10/10 [==============================] - 0s 6ms/step - loss: 26.7105 - mean_absolute_error: 4.0412 - val_loss: 25.4751 - val_mean_absolute_error: 3.9213\n",
            "Epoch 86/100\n",
            "10/10 [==============================] - 0s 8ms/step - loss: 29.1082 - mean_absolute_error: 4.2588 - val_loss: 34.3781 - val_mean_absolute_error: 4.4684\n",
            "Epoch 87/100\n",
            "10/10 [==============================] - 0s 6ms/step - loss: 37.1529 - mean_absolute_error: 4.8696 - val_loss: 25.5036 - val_mean_absolute_error: 3.8429\n",
            "Epoch 88/100\n",
            "10/10 [==============================] - 0s 6ms/step - loss: 30.3761 - mean_absolute_error: 4.4715 - val_loss: 26.6737 - val_mean_absolute_error: 4.0909\n",
            "Epoch 89/100\n",
            "10/10 [==============================] - 0s 6ms/step - loss: 27.1680 - mean_absolute_error: 4.0816 - val_loss: 24.7798 - val_mean_absolute_error: 3.8630\n",
            "Epoch 90/100\n",
            "10/10 [==============================] - 0s 6ms/step - loss: 26.2719 - mean_absolute_error: 4.0261 - val_loss: 26.2730 - val_mean_absolute_error: 3.9232\n",
            "Epoch 91/100\n",
            "10/10 [==============================] - 0s 6ms/step - loss: 27.4712 - mean_absolute_error: 4.0615 - val_loss: 25.9801 - val_mean_absolute_error: 4.0275\n",
            "Epoch 92/100\n",
            "10/10 [==============================] - 0s 6ms/step - loss: 31.2805 - mean_absolute_error: 4.4239 - val_loss: 25.5182 - val_mean_absolute_error: 3.9681\n",
            "Epoch 93/100\n",
            "10/10 [==============================] - 0s 6ms/step - loss: 30.4190 - mean_absolute_error: 4.3035 - val_loss: 33.0768 - val_mean_absolute_error: 4.3937\n",
            "Epoch 94/100\n",
            "10/10 [==============================] - 0s 6ms/step - loss: 29.1803 - mean_absolute_error: 4.3437 - val_loss: 24.7781 - val_mean_absolute_error: 3.8651\n",
            "Epoch 95/100\n",
            "10/10 [==============================] - 0s 6ms/step - loss: 29.7450 - mean_absolute_error: 4.3275 - val_loss: 24.7940 - val_mean_absolute_error: 3.8933\n",
            "Epoch 96/100\n",
            "10/10 [==============================] - 0s 8ms/step - loss: 36.9277 - mean_absolute_error: 4.8087 - val_loss: 24.5303 - val_mean_absolute_error: 3.8629\n",
            "Epoch 97/100\n",
            "10/10 [==============================] - 0s 9ms/step - loss: 26.4868 - mean_absolute_error: 4.0349 - val_loss: 25.3459 - val_mean_absolute_error: 3.9159\n",
            "Epoch 98/100\n",
            "10/10 [==============================] - 0s 6ms/step - loss: 31.1881 - mean_absolute_error: 4.3962 - val_loss: 27.0543 - val_mean_absolute_error: 4.0720\n",
            "Epoch 99/100\n",
            "10/10 [==============================] - 0s 6ms/step - loss: 29.0763 - mean_absolute_error: 4.2212 - val_loss: 31.0848 - val_mean_absolute_error: 4.3630\n",
            "Epoch 100/100\n",
            "10/10 [==============================] - 0s 6ms/step - loss: 31.5517 - mean_absolute_error: 4.2984 - val_loss: 31.5768 - val_mean_absolute_error: 4.2775\n"
          ]
        },
        {
          "output_type": "execute_result",
          "data": {
            "text/plain": [
              "<keras.callbacks.History at 0x7f450be17790>"
            ]
          },
          "metadata": {},
          "execution_count": 29
        }
      ]
    },
    {
      "cell_type": "code",
      "source": [
        "train_predictions = model.predict(X_train).flatten()\n",
        "\n",
        "plt.plot(dates_train, train_predictions)\n",
        "plt.plot(dates_train, y_train)\n",
        "plt.legend(['Training Predictions', 'Training Observations'])"
      ],
      "metadata": {
        "colab": {
          "base_uri": "https://localhost:8080/",
          "height": 299
        },
        "id": "l6qUS_b1P51L",
        "outputId": "b84294c4-b367-4db9-927c-ca70ece4ee3f"
      },
      "execution_count": 31,
      "outputs": [
        {
          "output_type": "stream",
          "name": "stdout",
          "text": [
            "10/10 [==============================] - 0s 2ms/step\n"
          ]
        },
        {
          "output_type": "execute_result",
          "data": {
            "text/plain": [
              "<matplotlib.legend.Legend at 0x7f450bbfc9d0>"
            ]
          },
          "metadata": {},
          "execution_count": 31
        },
        {
          "output_type": "display_data",
          "data": {
            "text/plain": [
              "<Figure size 432x288 with 1 Axes>"
            ],
            "image/png": "[encoded data removed]"
          },
          "metadata": {
            "needs_background": "light"
          }
        }
      ]
    },
    {
      "cell_type": "code",
      "source": [
        "val_predictions = model.predict(X_val).flatten()\n",
        "\n",
        "plt.plot(dates_val, val_predictions)\n",
        "plt.plot(dates_val, y_val)\n",
        "plt.legend(['Validation Predictions', 'Validation Observations'])"
      ],
      "metadata": {
        "colab": {
          "base_uri": "https://localhost:8080/",
          "height": 299
        },
        "id": "hVWHQ4E3P5r0",
        "outputId": "11367195-310c-41b8-83f3-5f3e33ba3886"
      },
      "execution_count": 32,
      "outputs": [
        {
          "output_type": "stream",
          "name": "stdout",
          "text": [
            "2/2 [==============================] - 0s 6ms/step\n"
          ]
        },
        {
          "output_type": "execute_result",
          "data": {
            "text/plain": [
              "<matplotlib.legend.Legend at 0x7f450bb1c850>"
            ]
          },
          "metadata": {},
          "execution_count": 32
        },
        {
          "output_type": "display_data",
          "data": {
            "text/plain": [
              "<Figure size 432x288 with 1 Axes>"
            ],
            "image/png": "[encoded data removed]"
          },
          "metadata": {
            "needs_background": "light"
          }
        }
      ]
    },
    {
      "cell_type": "code",
      "source": [
        "test_predictions = model.predict(X_test).flatten()\n",
        "\n",
        "plt.plot(dates_test, test_predictions)\n",
        "plt.plot(dates_test, y_test)\n",
        "plt.legend(['Testing Predictions', 'Testing Observations'])"
      ],
      "metadata": {
        "colab": {
          "base_uri": "https://localhost:8080/",
          "height": 299
        },
        "id": "mqYbPpzrP5a2",
        "outputId": "775f0247-1390-4ea4-dd56-d214beb47216"
      },
      "execution_count": 33,
      "outputs": [
        {
          "output_type": "stream",
          "name": "stdout",
          "text": [
            "2/2 [==============================] - 0s 5ms/step\n"
          ]
        },
        {
          "output_type": "execute_result",
          "data": {
            "text/plain": [
              "<matplotlib.legend.Legend at 0x7f450ba8ee10>"
            ]
          },
          "metadata": {},
          "execution_count": 33
        },
        {
          "output_type": "display_data",
          "data": {
            "text/plain": [
              "<Figure size 432x288 with 1 Axes>"
            ],
            "image/png": "[encoded data removed]"
          },
          "metadata": {
            "needs_background": "light"
          }
        }
      ]
    },
    {
      "cell_type": "code",
      "source": [
        "plt.plot(dates_train, train_predictions)\n",
        "plt.plot(dates_train, y_train)\n",
        "plt.plot(dates_val, val_predictions)\n",
        "plt.plot(dates_val, y_val)\n",
        "plt.plot(dates_test, test_predictions)\n",
        "plt.plot(dates_test, y_test)\n",
        "plt.legend(['Training Predictions', \n",
        "            'Training Observations',\n",
        "            'Validation Predictions', \n",
        "            'Validation Observations',\n",
        "            'Testing Predictions', \n",
        "            'Testing Observations'])"
      ],
      "metadata": {
        "colab": {
          "base_uri": "https://localhost:8080/",
          "height": 282
        },
        "id": "rKFtO_62P3v2",
        "outputId": "3f77ee49-c813-45de-d2dc-6e147a275190"
      },
      "execution_count": 34,
      "outputs": [
        {
          "output_type": "execute_result",
          "data": {
            "text/plain": [
              "<matplotlib.legend.Legend at 0x7f450ba51910>"
            ]
          },
          "metadata": {},
          "execution_count": 34
        },
        {
          "output_type": "display_data",
          "data": {
            "text/plain": [
              "<Figure size 432x288 with 1 Axes>"
            ],
            "image/png": "[encoded data removed]"
          },
          "metadata": {
            "needs_background": "light"
          }
        }
      ]
    },
    {
      "cell_type": "code",
      "source": [
        "from copy import deepcopy\n",
        "\n",
        "recursive_predictions = []\n",
        "recursive_dates = np.concatenate([dates_val, dates_test])\n",
        "\n",
        "for target_date in recursive_dates:\n",
        "  last_window = deepcopy(X_train[-1])\n",
        "  next_prediction = model.predict(np.array([last_window])).flatten()\n",
        "  recursive_predictions.append(next_prediction)\n",
        "  last_window[-1] = next_prediction"
      ],
      "metadata": {
        "id": "ZSHeA8uYQH2j"
      },
      "execution_count": null,
      "outputs": []
    }
  ]
}